{
 "cells": [
  {
   "cell_type": "code",
   "execution_count": 8,
   "id": "5f045fbd-5ede-4358-93df-a89706956b61",
   "metadata": {},
   "outputs": [
    {
     "name": "stdout",
     "output_type": "stream",
     "text": [
      "Total number of images in the dataset: 3738\n"
     ]
    },
    {
     "data": {
      "image/png": "[encoded data removed]",
      "text/plain": [
       "<Figure size 1000x600 with 1 Axes>"
      ]
     },
     "metadata": {},
     "output_type": "display_data"
    }
   ],
   "source": [
    "import os\n",
    "from PIL import Image\n",
    "import matplotlib.pyplot as plt\n",
    "import numpy as np\n",
    "\n",
    "# Path to your dataset folder\n",
    "dataset_folder = '/Users/ruchamaslekar/Machine Learning/Project01-YumSnaps/archive'\n",
    "\n",
    "# Function to count images in a folder\n",
    "def count_images(folder_path):\n",
    "    count = 0\n",
    "    for root, dirs, files in os.walk(folder_path):\n",
    "        for file in files:\n",
    "            if file.endswith(('.jpg', '.jpeg', '.png')):  # Add more extensions if needed\n",
    "                count += 1\n",
    "    return count\n",
    "\n",
    "# Count the total number of images\n",
    "total_images = count_images(dataset_folder)\n",
    "\n",
    "# Print the total number of images\n",
    "print(f'Total number of images in the dataset: {total_images}')\n",
    "\n",
    "# Visualize the distribution of images by category (if applicable)\n",
    "if os.path.isdir(dataset_folder):\n",
    "    categories = os.listdir(dataset_folder)\n",
    "    image_counts = [count_images(os.path.join(dataset_folder, category)) for category in categories]\n",
    "\n",
    "    # Plot the distribution\n",
    "    plt.figure(figsize=(10, 6))\n",
    "    plt.bar(categories, image_counts, color='skyblue')\n",
    "    plt.xlabel('Categories')\n",
    "    plt.ylabel('Number of Images')\n",
    "    plt.title('Distribution of Images by Category')\n",
    "    plt.xticks(rotation=45, ha='right')\n",
    "    plt.show()"
   ]
  },
  {
   "cell_type": "code",
   "execution_count": 17,
   "id": "2984a05f-baaf-4692-9f69-862981e03fd1",
   "metadata": {},
   "outputs": [
    {
     "name": "stdout",
     "output_type": "stream",
     "text": [
      "Total number of unique resolutions: 1667\n",
      "\n",
      "Top 5 Resolutions and Counts:\n",
      "Resolution: (1000, 1000) - Count: 115\n",
      "Resolution: (1200, 800) - Count: 66\n",
      "Resolution: (800, 800) - Count: 58\n",
      "Resolution: (1280, 720) - Count: 52\n",
      "Resolution: (600, 600) - Count: 50\n",
      "\n",
      "Resolution with the Highest Count: (1000, 1000) - Count: 115\n"
     ]
    }
   ],
   "source": [
    "# Function to get image resolutions and their counts\n",
    "dataset_folder = '/Users/ruchamaslekar/Machine Learning/Project01-YumSnaps/archive'\n",
    "def get_resolution_counts(folder_path):\n",
    "    resolution_counts = {}\n",
    "\n",
    "    for root, dirs, files in os.walk(folder_path):\n",
    "        for file in files:\n",
    "            if file.endswith(('.jpg', '.jpeg', '.png', '.gif')):  # Add more extensions if needed\n",
    "                image_path = os.path.join(root, file)\n",
    "\n",
    "                # Open the image using PIL\n",
    "                with Image.open(image_path) as img:\n",
    "                    width, height = img.size\n",
    "                    resolution = (width, height)\n",
    "\n",
    "                    # Count the resolution occurrences\n",
    "                    resolution_counts[resolution] = resolution_counts.get(resolution, 0) + 1\n",
    "\n",
    "    return resolution_counts\n",
    "\n",
    "# Get image resolutions and their counts\n",
    "resolution_counts = get_resolution_counts(dataset_folder)\n",
    "\n",
    "# Find the resolution with the highest count\n",
    "most_common_resolution = max(resolution_counts, key=resolution_counts.get)\n",
    "\n",
    "# Print the results\n",
    "print(f'Total number of unique resolutions: {len(resolution_counts)}\\n')\n",
    "\n",
    "print('Top 5 Resolutions and Counts:')\n",
    "for resolution, count in sorted(resolution_counts.items(), key=lambda x: x[1], reverse=True)[:5]:\n",
    "    print(f'Resolution: {resolution} - Count: {count}')\n",
    "\n",
    "print(f'\\nResolution with the Highest Count: {most_common_resolution} - Count: {resolution_counts[most_common_resolution]}')"
   ]
  },
  {
   "cell_type": "code",
   "execution_count": 13,
   "id": "c46dac02-f399-4a74-974c-db152e2135e3",
   "metadata": {},
   "outputs": [
    {
     "name": "stdout",
     "output_type": "stream",
     "text": [
      "Class Distribution:\n",
      "test: 0 images\n",
      "train: 0 images\n",
      "validation: 0 images\n"
     ]
    }
   ],
   "source": [
    "# Function to analyze class distribution\n",
    "def analyze_class_distribution(folder_path):\n",
    "    class_counts = {}\n",
    "\n",
    "    for category in os.listdir(folder_path):\n",
    "        category_path = os.path.join(folder_path, category)\n",
    "\n",
    "        # Check if the item is a directory\n",
    "        if os.path.isdir(category_path):\n",
    "            # Count the number of images in each category\n",
    "            class_counts[category] = len([f for f in os.listdir(category_path) if f.endswith(('.jpg', '.jpeg', '.png'))])\n",
    "\n",
    "    return class_counts\n",
    "\n",
    "# Get class distribution\n",
    "class_distribution = analyze_class_distribution(dataset_folder)\n",
    "\n",
    "# Print the results\n",
    "print('Class Distribution:')\n",
    "for category, count in class_distribution.items():\n",
    "    print(f'{category}: {count} images')"
   ]
  },
  {
   "cell_type": "code",
   "execution_count": 23,
   "id": "d7571b81-9317-4e1c-97c2-ea0becdff250",
   "metadata": {},
   "outputs": [
    {
     "name": "stdout",
     "output_type": "stream",
     "text": [
      "Total number of images: 3040\n",
      "Number of Fruits Images: 903\n",
      "Number of Vegetables Images: 1365\n"
     ]
    }
   ],
   "source": [
    "# Function to automatically categorize folders into fruits and vegetables and count images\n",
    "dataset_folder = '/Users/ruchamaslekar/Machine Learning/Project01-YumSnaps/archive/train'\n",
    "def categorize_and_count_images(folder_path):\n",
    "    fruit_keywords = ['apple', 'apricot', 'avocado', 'banana', 'blackberry', 'blueberry', 'cherry', 'coconut', 'date', 'dragonfruit', 'fig', 'grape', 'kiwi', 'lemon', 'lime', 'mango', 'orange', 'papaya', 'peach', 'pear', 'pineapple', 'plum', 'pomegranate', 'raspberry', 'strawberry', 'watermelon']\n",
    "    vegetable_keywords = ['artichoke', 'asparagus', 'broccoli', 'cabbage', 'carrot', 'cauliflower', 'celery', 'corn', 'cucumber', 'eggplant', 'garlic', 'greenbean', 'kale', 'lettuce', 'onion', 'pepper', 'potato', 'pumpkin', 'radish', 'spinach', 'squash', 'sweetpotato', 'tomato', 'zucchini']\n",
    "\n",
    "    total_count = 0\n",
    "    fruit_count = 0\n",
    "    vegetable_count = 0\n",
    "\n",
    "    for category in os.listdir(folder_path):\n",
    "        category_path = os.path.join(folder_path, category)\n",
    "\n",
    "        # Check if the item is a directory\n",
    "        if os.path.isdir(category_path):\n",
    "            # Count the number of images in each category\n",
    "            image_count = len([f for f in os.listdir(category_path) if f.endswith(('.jpg', '.jpeg', '.png', '.gif'))])\n",
    "            total_count += image_count\n",
    "\n",
    "            # Check if the folder name contains keywords for fruits or vegetables\n",
    "            category_lower = category.lower()\n",
    "            if any(keyword in category_lower for keyword in fruit_keywords):\n",
    "                fruit_count += image_count\n",
    "            elif any(keyword in category_lower for keyword in vegetable_keywords):\n",
    "                vegetable_count += image_count\n",
    "\n",
    "    return total_count, fruit_count, vegetable_count\n",
    "\n",
    "# Get counts\n",
    "total_count, fruit_count, vegetable_count = categorize_and_count_images(dataset_folder)\n",
    "\n",
    "# Print the results\n",
    "print(f'Total number of images: {total_count}')\n",
    "print(f'Number of Fruits Images: {fruit_count}')\n",
    "print(f'Number of Vegetables Images: {vegetable_count}')"
   ]
  },
  {
   "cell_type": "code",
   "execution_count": 24,
   "id": "0a80636a-886c-48ee-b288-8184ca98e96a",
   "metadata": {},
   "outputs": [
    {
     "name": "stdout",
     "output_type": "stream",
     "text": [
      "Total number of images: 353\n",
      "Number of Fruits Images: 107\n",
      "Number of Vegetables Images: 157\n"
     ]
    }
   ],
   "source": [
    "# Function to automatically categorize folders into fruits and vegetables and count images\n",
    "dataset_folder = '/Users/ruchamaslekar/Machine Learning/Project01-YumSnaps/archive/test'\n",
    "def categorize_and_count_images(folder_path):\n",
    "    fruit_keywords = ['apple', 'apricot', 'avocado', 'banana', 'blackberry', 'blueberry', 'cherry', 'coconut', 'date', 'dragonfruit', 'fig', 'grape', 'kiwi', 'lemon', 'lime', 'mango', 'orange', 'papaya', 'peach', 'pear', 'pineapple', 'plum', 'pomegranate', 'raspberry', 'strawberry', 'watermelon']\n",
    "    vegetable_keywords = ['artichoke', 'asparagus', 'broccoli', 'cabbage', 'carrot', 'cauliflower', 'celery', 'corn', 'cucumber', 'eggplant', 'garlic', 'greenbean', 'kale', 'lettuce', 'onion', 'pepper', 'potato', 'pumpkin', 'radish', 'spinach', 'squash', 'sweetpotato', 'tomato', 'zucchini']\n",
    "\n",
    "    total_count = 0\n",
    "    fruit_count = 0\n",
    "    vegetable_count = 0\n",
    "\n",
    "    for category in os.listdir(folder_path):\n",
    "        category_path = os.path.join(folder_path, category)\n",
    "\n",
    "        # Check if the item is a directory\n",
    "        if os.path.isdir(category_path):\n",
    "            # Count the number of images in each category\n",
    "            image_count = len([f for f in os.listdir(category_path) if f.endswith(('.jpg', '.jpeg', '.png', '.gif'))])\n",
    "            total_count += image_count\n",
    "\n",
    "            # Check if the folder name contains keywords for fruits or vegetables\n",
    "            category_lower = category.lower()\n",
    "            if any(keyword in category_lower for keyword in fruit_keywords):\n",
    "                fruit_count += image_count\n",
    "            elif any(keyword in category_lower for keyword in vegetable_keywords):\n",
    "                vegetable_count += image_count\n",
    "\n",
    "    return total_count, fruit_count, vegetable_count\n",
    "\n",
    "# Get counts\n",
    "total_count, fruit_count, vegetable_count = categorize_and_count_images(dataset_folder)\n",
    "\n",
    "# Print the results\n",
    "print(f'Total number of images: {total_count}')\n",
    "print(f'Number of Fruits Images: {fruit_count}')\n",
    "print(f'Number of Vegetables Images: {vegetable_count}')"
   ]
  },
  {
   "cell_type": "code",
   "execution_count": 25,
   "id": "f00b37f0-ca72-4b2a-b192-b9ff39ae8151",
   "metadata": {},
   "outputs": [
    {
     "name": "stdout",
     "output_type": "stream",
     "text": [
      "Total number of images: 345\n",
      "Number of Fruits Images: 105\n",
      "Number of Vegetables Images: 153\n"
     ]
    }
   ],
   "source": [
    "# Function to automatically categorize folders into fruits and vegetables and count images\n",
    "dataset_folder = '/Users/ruchamaslekar/Machine Learning/Project01-YumSnaps/archive/validation'\n",
    "def categorize_and_count_images(folder_path):\n",
    "    fruit_keywords = ['apple', 'apricot', 'avocado', 'banana', 'blackberry', 'blueberry', 'cherry', 'coconut', 'date', 'dragonfruit', 'fig', 'grape', 'kiwi', 'lemon', 'lime', 'mango', 'orange', 'papaya', 'peach', 'pear', 'pineapple', 'plum', 'pomegranate', 'raspberry', 'strawberry', 'watermelon']\n",
    "    vegetable_keywords = ['artichoke', 'asparagus', 'broccoli', 'cabbage', 'carrot', 'cauliflower', 'celery', 'corn', 'cucumber', 'eggplant', 'garlic', 'greenbean', 'kale', 'lettuce', 'onion', 'pepper', 'potato', 'pumpkin', 'radish', 'spinach', 'squash', 'sweetpotato', 'tomato', 'zucchini']\n",
    "\n",
    "    total_count = 0\n",
    "    fruit_count = 0\n",
    "    vegetable_count = 0\n",
    "\n",
    "    for category in os.listdir(folder_path):\n",
    "        category_path = os.path.join(folder_path, category)\n",
    "\n",
    "        # Check if the item is a directory\n",
    "        if os.path.isdir(category_path):\n",
    "            # Count the number of images in each category\n",
    "            image_count = len([f for f in os.listdir(category_path) if f.endswith(('.jpg', '.jpeg', '.png', '.gif'))])\n",
    "            total_count += image_count\n",
    "\n",
    "            # Check if the folder name contains keywords for fruits or vegetables\n",
    "            category_lower = category.lower()\n",
    "            if any(keyword in category_lower for keyword in fruit_keywords):\n",
    "                fruit_count += image_count\n",
    "            elif any(keyword in category_lower for keyword in vegetable_keywords):\n",
    "                vegetable_count += image_count\n",
    "\n",
    "    return total_count, fruit_count, vegetable_count\n",
    "\n",
    "# Get counts\n",
    "total_count, fruit_count, vegetable_count = categorize_and_count_images(dataset_folder)\n",
    "\n",
    "# Print the results\n",
    "print(f'Total number of images: {total_count}')\n",
    "print(f'Number of Fruits Images: {fruit_count}')\n",
    "print(f'Number of Vegetables Images: {vegetable_count}')"
   ]
  },
  {
   "cell_type": "code",
   "execution_count": null,
   "id": "6b090567-a215-4b33-9597-8eaaf765b82a",
   "metadata": {},
   "outputs": [],
   "source": []
  }
 ],
 "metadata": {
  "kernelspec": {
   "display_name": "Python 3 (ipykernel)",
   "language": "python",
   "name": "python3"
  },
  "language_info": {
   "codemirror_mode": {
    "name": "ipython",
    "version": 3
   },
   "file_extension": ".py",
   "mimetype": "text/x-python",
   "name": "python",
   "nbconvert_exporter": "python",
   "pygments_lexer": "ipython3",
   "version": "3.11.6"
  }
 },
 "nbformat": 4,
 "nbformat_minor": 5
}
