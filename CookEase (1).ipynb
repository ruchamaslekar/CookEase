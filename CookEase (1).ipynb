{
 "cells": [
  {
   "cell_type": "markdown",
   "id": "8b04fadf-bfaf-4aa8-9dbc-2c2e3840a303",
   "metadata": {},
   "source": [
    "# Background"
   ]
  },
  {
   "cell_type": "markdown",
   "id": "5ade0e75-0052-49f2-b695-ec8d26c7cc70",
   "metadata": {},
   "source": [
    "#### Load Food-101 dataset"
   ]
  },
  {
   "cell_type": "code",
   "execution_count": 33,
   "id": "c458d630-2f0e-4b60-ab79-0bd7bdcccd9c",
   "metadata": {},
   "outputs": [
    {
     "data": {
      "text/html": [
       "<div>\n",
       "<style scoped>\n",
       "    .dataframe tbody tr th:only-of-type {\n",
       "        vertical-align: middle;\n",
       "    }\n",
       "\n",
       "    .dataframe tbody tr th {\n",
       "        vertical-align: top;\n",
       "    }\n",
       "\n",
       "    .dataframe thead th {\n",
       "        text-align: right;\n",
       "    }\n",
       "</style>\n",
       "<table border=\"1\" class=\"dataframe\">\n",
       "  <thead>\n",
       "    <tr style=\"text-align: right;\">\n",
       "      <th></th>\n",
       "      <th>0</th>\n",
       "      <th>1</th>\n",
       "    </tr>\n",
       "  </thead>\n",
       "  <tbody>\n",
       "    <tr>\n",
       "      <th>0</th>\n",
       "      <td>apple_pie</td>\n",
       "      <td>1005649</td>\n",
       "    </tr>\n",
       "    <tr>\n",
       "      <th>1</th>\n",
       "      <td>apple_pie</td>\n",
       "      <td>1014775</td>\n",
       "    </tr>\n",
       "    <tr>\n",
       "      <th>2</th>\n",
       "      <td>apple_pie</td>\n",
       "      <td>1026328</td>\n",
       "    </tr>\n",
       "    <tr>\n",
       "      <th>3</th>\n",
       "      <td>apple_pie</td>\n",
       "      <td>1028787</td>\n",
       "    </tr>\n",
       "    <tr>\n",
       "      <th>4</th>\n",
       "      <td>apple_pie</td>\n",
       "      <td>1043283</td>\n",
       "    </tr>\n",
       "    <tr>\n",
       "      <th>...</th>\n",
       "      <td>...</td>\n",
       "      <td>...</td>\n",
       "    </tr>\n",
       "    <tr>\n",
       "      <th>75745</th>\n",
       "      <td>waffles</td>\n",
       "      <td>981485</td>\n",
       "    </tr>\n",
       "    <tr>\n",
       "      <th>75746</th>\n",
       "      <td>waffles</td>\n",
       "      <td>98238</td>\n",
       "    </tr>\n",
       "    <tr>\n",
       "      <th>75747</th>\n",
       "      <td>waffles</td>\n",
       "      <td>982668</td>\n",
       "    </tr>\n",
       "    <tr>\n",
       "      <th>75748</th>\n",
       "      <td>waffles</td>\n",
       "      <td>995085</td>\n",
       "    </tr>\n",
       "    <tr>\n",
       "      <th>75749</th>\n",
       "      <td>waffles</td>\n",
       "      <td>999047</td>\n",
       "    </tr>\n",
       "  </tbody>\n",
       "</table>\n",
       "<p>75750 rows × 2 columns</p>\n",
       "</div>"
      ],
      "text/plain": [
       "               0        1\n",
       "0      apple_pie  1005649\n",
       "1      apple_pie  1014775\n",
       "2      apple_pie  1026328\n",
       "3      apple_pie  1028787\n",
       "4      apple_pie  1043283\n",
       "...          ...      ...\n",
       "75745    waffles   981485\n",
       "75746    waffles    98238\n",
       "75747    waffles   982668\n",
       "75748    waffles   995085\n",
       "75749    waffles   999047\n",
       "\n",
       "[75750 rows x 2 columns]"
      ]
     },
     "execution_count": 33,
     "metadata": {},
     "output_type": "execute_result"
    }
   ],
   "source": [
    "import pandas as pd\n",
    "\n",
    "food101_metadata = pd.read_csv('archive 2/food-101/food-101/meta/train.txt', delimiter='/', header = None)\n",
    "food101_metadata"
   ]
  },
  {
   "cell_type": "code",
   "execution_count": 34,
   "id": "a31ec674-0394-4fc4-a1d5-17f4ae017563",
   "metadata": {},
   "outputs": [
    {
     "name": "stdout",
     "output_type": "stream",
     "text": [
      "<class 'pandas.core.frame.DataFrame'>\n",
      "RangeIndex: 75750 entries, 0 to 75749\n",
      "Data columns (total 2 columns):\n",
      " #   Column  Non-Null Count  Dtype \n",
      "---  ------  --------------  ----- \n",
      " 0   0       75750 non-null  object\n",
      " 1   1       75750 non-null  int64 \n",
      "dtypes: int64(1), object(1)\n",
      "memory usage: 1.2+ MB\n"
     ]
    }
   ],
   "source": [
    "food101_metadata.info()"
   ]
  },
  {
   "cell_type": "code",
   "execution_count": 35,
   "id": "008d1163-7134-4450-bf09-4a64338ba615",
   "metadata": {},
   "outputs": [
    {
     "data": {
      "text/html": [
       "<div>\n",
       "<style scoped>\n",
       "    .dataframe tbody tr th:only-of-type {\n",
       "        vertical-align: middle;\n",
       "    }\n",
       "\n",
       "    .dataframe tbody tr th {\n",
       "        vertical-align: top;\n",
       "    }\n",
       "\n",
       "    .dataframe thead th {\n",
       "        text-align: right;\n",
       "    }\n",
       "</style>\n",
       "<table border=\"1\" class=\"dataframe\">\n",
       "  <thead>\n",
       "    <tr style=\"text-align: right;\">\n",
       "      <th></th>\n",
       "      <th>1</th>\n",
       "    </tr>\n",
       "  </thead>\n",
       "  <tbody>\n",
       "    <tr>\n",
       "      <th>count</th>\n",
       "      <td>7.575000e+04</td>\n",
       "    </tr>\n",
       "    <tr>\n",
       "      <th>mean</th>\n",
       "      <td>1.864864e+06</td>\n",
       "    </tr>\n",
       "    <tr>\n",
       "      <th>std</th>\n",
       "      <td>1.149176e+06</td>\n",
       "    </tr>\n",
       "    <tr>\n",
       "      <th>min</th>\n",
       "      <td>5.300000e+01</td>\n",
       "    </tr>\n",
       "    <tr>\n",
       "      <th>25%</th>\n",
       "      <td>8.362325e+05</td>\n",
       "    </tr>\n",
       "    <tr>\n",
       "      <th>50%</th>\n",
       "      <td>1.836550e+06</td>\n",
       "    </tr>\n",
       "    <tr>\n",
       "      <th>75%</th>\n",
       "      <td>2.853988e+06</td>\n",
       "    </tr>\n",
       "    <tr>\n",
       "      <th>max</th>\n",
       "      <td>3.924720e+06</td>\n",
       "    </tr>\n",
       "  </tbody>\n",
       "</table>\n",
       "</div>"
      ],
      "text/plain": [
       "                  1\n",
       "count  7.575000e+04\n",
       "mean   1.864864e+06\n",
       "std    1.149176e+06\n",
       "min    5.300000e+01\n",
       "25%    8.362325e+05\n",
       "50%    1.836550e+06\n",
       "75%    2.853988e+06\n",
       "max    3.924720e+06"
      ]
     },
     "execution_count": 35,
     "metadata": {},
     "output_type": "execute_result"
    }
   ],
   "source": [
    "food101_metadata.describe()"
   ]
  },
  {
   "cell_type": "markdown",
   "id": "bfc72db9-b3f1-4dde-af75-9a2f57318b18",
   "metadata": {},
   "source": [
    "#### Filter fruits and vegetables"
   ]
  },
  {
   "cell_type": "code",
   "execution_count": 41,
   "id": "355ff460-3c4b-4088-8ba7-94f193d27057",
   "metadata": {},
   "outputs": [
    {
     "data": {
      "text/plain": [
       "<bound method DataFrame.value_counts of Empty DataFrame\n",
       "Columns: [0, 1]\n",
       "Index: []>"
      ]
     },
     "execution_count": 41,
     "metadata": {},
     "output_type": "execute_result"
    }
   ],
   "source": [
    "fruits_vegetables_metadata = food101_metadata[food101_metadata[0]\n",
    ".isin(['orange', 'banana', 'carrot', 'broccoli'])]\n",
    "fruits_vegetables_metadata.value_counts"
   ]
  },
  {
   "cell_type": "markdown",
   "id": "d8d09b2c-5fa7-4445-82be-2671c63f98c1",
   "metadata": {},
   "source": [
    "#### Count the number of images for fruits and vegetables, total images and percentage"
   ]
  },
  {
   "cell_type": "code",
   "execution_count": 42,
   "id": "92b7165d-0272-42e1-9339-5a6afa369fa1",
   "metadata": {},
   "outputs": [
    {
     "data": {
      "text/plain": [
       "0.0"
      ]
     },
     "execution_count": 42,
     "metadata": {},
     "output_type": "execute_result"
    }
   ],
   "source": [
    "num_fruits_vegetables = len(fruits_vegetables_metadata)\n",
    "total_images = len(food101_metadata)\n",
    "percentage_fruits_vegetables = (num_fruits_vegetables / total_images) * 100\n",
    "percentage_fruits_vegetables"
   ]
  },
  {
   "cell_type": "code",
   "execution_count": 44,
   "id": "7dd89911-b976-4774-83ae-2a58b7593e8f",
   "metadata": {},
   "outputs": [],
   "source": [
    "train_data_dir = 'archive/train'"
   ]
  },
  {
   "cell_type": "code",
   "execution_count": 46,
   "id": "c148f7b2-33e7-435d-8757-430f1dda5b45",
   "metadata": {},
   "outputs": [
    {
     "name": "stdout",
     "output_type": "stream",
     "text": [
      "Number of fruit images: 0\n",
      "Number of vegetable images: 0\n"
     ]
    }
   ],
   "source": [
    "import os\n",
    "from PIL import Image\n",
    "\n",
    "def count_images_with_keywords(directory, keywords):\n",
    "    image_extensions = ['.jpg', '.jpeg', '.png', '.gif', '.bmp']  # Add more extensions if needed\n",
    "    image_count = 0\n",
    "    \n",
    "    for filename in os.listdir(directory):\n",
    "        if os.path.isfile(os.path.join(directory, filename)):\n",
    "            if any(keyword in filename.lower() for keyword in keywords) and os.path.splitext(filename)[1].lower() in image_extensions:\n",
    "                image_count += 1\n",
    "    \n",
    "    return image_count\n",
    "\n",
    "food101_directory = 'archive 2/food-101/food-101/images' \n",
    "fruit_keywords = ['apple', 'apricot', 'avocado', 'banana', 'blackberry', 'blueberry', 'cherry', 'coconut', 'date', 'dragonfruit', 'fig', 'grape', 'kiwi', 'lemon', 'lime', 'mango', 'orange', 'papaya', 'peach', 'pear', 'pineapple', 'plum', 'pomegranate', 'raspberry', 'strawberry', 'watermelon']\n",
    "vegetable_keywords = ['artichoke', 'asparagus', 'broccoli', 'cabbage', 'carrot', 'cauliflower', 'celery', 'corn', 'cucumber', 'eggplant', 'garlic', 'greenbean', 'kale', 'lettuce', 'onion', 'pepper', 'potato', 'pumpkin', 'radish', 'spinach', 'squash', 'sweetpotato', 'tomato', 'zucchini']\n",
    "\n",
    "num_fruit_images = count_images_with_keywords(food101_directory, fruit_keywords)\n",
    "num_vegetable_images = count_images_with_keywords(food101_directory, vegetable_keywords)\n",
    "\n",
    "print(\"Number of fruit images:\", num_fruit_images)\n",
    "print(\"Number of vegetable images:\", num_vegetable_images)"
   ]
  },
  {
   "cell_type": "markdown",
   "id": "be4cd2b4-0496-4fc6-b9c7-46b3b7fa506e",
   "metadata": {},
   "source": [
    "## Assumptions\n",
    "- Folder names are mapped correctly to images inside it."
   ]
  },
  {
   "cell_type": "markdown",
   "id": "06132bdb-fc34-4583-9705-878305e8cb77",
   "metadata": {},
   "source": [
    "# Data"
   ]
  },
  {
   "cell_type": "code",
   "execution_count": null,
   "id": "6bd7851c-b915-4a1a-a19c-ed49a41f3d41",
   "metadata": {},
   "outputs": [],
   "source": []
  },
  {
   "cell_type": "code",
   "execution_count": null,
   "id": "5e915542-a294-494a-bdd9-0da01d2f5875",
   "metadata": {},
   "outputs": [],
   "source": []
  },
  {
   "cell_type": "code",
   "execution_count": 1,
   "id": "669c0b58-33ff-4768-8744-0e2a96df1b27",
   "metadata": {},
   "outputs": [
    {
     "name": "stderr",
     "output_type": "stream",
     "text": [
      "2024-03-29 12:58:38.027390: I tensorflow/core/platform/cpu_feature_guard.cc:210] This TensorFlow binary is optimized to use available CPU instructions in performance-critical operations.\n",
      "To enable the following instructions: AVX2 FMA, in other operations, rebuild TensorFlow with the appropriate compiler flags.\n"
     ]
    }
   ],
   "source": [
    "import tensorflow as tf\n",
    "from tensorflow.keras import layers, models\n",
    "from tensorflow.keras.preprocessing.image import ImageDataGenerator\n",
    "\n",
    "# Define constants\n",
    "IMAGE_SIZE = (128, 128)\n",
    "BATCH_SIZE = 32\n",
    "EPOCHS = 10\n",
    "num_classes = 36\n",
    "\n",
    "# Set the path to your dataset\n",
    "validation_data_dir = 'archive/validation'\n",
    "test_data_dir = 'archive/test'"
   ]
  },
  {
   "cell_type": "markdown",
   "id": "692b4bdc-978c-4d45-8f4c-04fecaacb343",
   "metadata": {},
   "source": [
    "#### Data augmentation for better generalizatio"
   ]
  },
  {
   "cell_type": "code",
   "execution_count": 2,
   "id": "380cb678-9b03-4ea3-bbe8-5f253b66dd63",
   "metadata": {},
   "outputs": [],
   "source": [
    "train_datagen = ImageDataGenerator(\n",
    "    rescale=1./255,\n",
    "    shear_range=0.2,\n",
    "    zoom_range=0.2,\n",
    "    horizontal_flip=True\n",
    ")"
   ]
  },
  {
   "cell_type": "code",
   "execution_count": 3,
   "id": "0cbf1c86-e66a-4097-9c3c-32f4c469d4b9",
   "metadata": {},
   "outputs": [],
   "source": [
    "test_datagen = ImageDataGenerator(\n",
    "    rescale=1./255\n",
    ")"
   ]
  },
  {
   "cell_type": "code",
   "execution_count": 4,
   "id": "d1d20301-ffa7-49e4-9815-d40474609e37",
   "metadata": {},
   "outputs": [],
   "source": [
    "validation_datagen = ImageDataGenerator(\n",
    "    rescale=1./255\n",
    ")"
   ]
  },
  {
   "cell_type": "markdown",
   "id": "ff3bdfa2-2dce-4f6a-b2e7-1db5db6ee93b",
   "metadata": {},
   "source": [
    "#### Load and augment training data"
   ]
  },
  {
   "cell_type": "code",
   "execution_count": 5,
   "id": "f1b9e832-99eb-4277-ab16-d3dc0968b459",
   "metadata": {},
   "outputs": [
    {
     "name": "stdout",
     "output_type": "stream",
     "text": [
      "Found 3115 images belonging to 36 classes.\n"
     ]
    }
   ],
   "source": [
    "train_generator = train_datagen.flow_from_directory(\n",
    "    train_data_dir,\n",
    "    target_size=IMAGE_SIZE,\n",
    "    batch_size=BATCH_SIZE,\n",
    "    class_mode='categorical'\n",
    ")"
   ]
  },
  {
   "cell_type": "markdown",
   "id": "81f8ca5f-a1f8-4ca2-aff9-c0a30e84da33",
   "metadata": {},
   "source": [
    "#### Load validation data"
   ]
  },
  {
   "cell_type": "code",
   "execution_count": 6,
   "id": "e7668aa5-491a-4efd-b8bd-65f0525cccff",
   "metadata": {},
   "outputs": [
    {
     "name": "stdout",
     "output_type": "stream",
     "text": [
      "Found 351 images belonging to 36 classes.\n"
     ]
    }
   ],
   "source": [
    "validation_generator = validation_datagen.flow_from_directory(\n",
    "    validation_data_dir,\n",
    "    target_size=IMAGE_SIZE,\n",
    "    batch_size=BATCH_SIZE,\n",
    "    class_mode='categorical'\n",
    ")"
   ]
  },
  {
   "cell_type": "markdown",
   "id": "7cd26fa8-3a29-4eed-846d-c4834d5fe0c7",
   "metadata": {},
   "source": [
    "#### Load test data"
   ]
  },
  {
   "cell_type": "code",
   "execution_count": 7,
   "id": "18080fcc-5773-4fe3-a067-0515e2fabd56",
   "metadata": {},
   "outputs": [
    {
     "name": "stdout",
     "output_type": "stream",
     "text": [
      "Found 359 images belonging to 36 classes.\n"
     ]
    }
   ],
   "source": [
    "test_generator = test_datagen.flow_from_directory(\n",
    "    test_data_dir,\n",
    "    target_size=IMAGE_SIZE,\n",
    "    batch_size=BATCH_SIZE,\n",
    "    class_mode='categorical'\n",
    ")"
   ]
  },
  {
   "cell_type": "markdown",
   "id": "5ca1f989-72b4-4fee-9f98-73332328c786",
   "metadata": {},
   "source": [
    "### CNN Model Building"
   ]
  },
  {
   "cell_type": "code",
   "execution_count": 8,
   "id": "fdd3b0c1-7e37-4197-846e-6fc61e24f0de",
   "metadata": {},
   "outputs": [
    {
     "name": "stderr",
     "output_type": "stream",
     "text": [
      "/usr/local/Cellar/jupyterlab/4.0.12/libexec/lib/python3.12/site-packages/keras/src/layers/convolutional/base_conv.py:99: UserWarning: Do not pass an `input_shape`/`input_dim` argument to a layer. When using Sequential models, prefer using an `Input(shape)` object as the first layer in the model instead.\n",
      "  super().__init__(\n"
     ]
    }
   ],
   "source": [
    "model = models.Sequential()\n",
    "model.add(layers.Conv2D(32, (3, 3), activation='relu', input_shape=(IMAGE_SIZE[0], IMAGE_SIZE[1], 3)))\n",
    "model.add(layers.MaxPooling2D((2, 2)))\n",
    "model.add(layers.Conv2D(64, (3, 3), activation='relu'))\n",
    "model.add(layers.MaxPooling2D((2, 2)))\n",
    "model.add(layers.Conv2D(128, (3, 3), activation='relu'))\n",
    "model.add(layers.MaxPooling2D((2, 2)))\n",
    "model.add(layers.Flatten())\n",
    "model.add(layers.Dense(128, activation='relu'))\n",
    "model.add(layers.Dropout(0.5))\n",
    "model.add(layers.Dense(num_classes, activation='softmax'))"
   ]
  },
  {
   "cell_type": "code",
   "execution_count": 9,
   "id": "4addab84-372a-48de-a7b1-a733f8bb38e7",
   "metadata": {},
   "outputs": [],
   "source": [
    "model.compile(optimizer='adam', loss='categorical_crossentropy', metrics=['accuracy'])"
   ]
  },
  {
   "cell_type": "code",
   "execution_count": 10,
   "id": "548841ec-60f7-4869-ac6b-a559e8e40b61",
   "metadata": {},
   "outputs": [
    {
     "name": "stderr",
     "output_type": "stream",
     "text": [
      "/usr/local/Cellar/jupyterlab/4.0.12/libexec/lib/python3.12/site-packages/keras/src/trainers/data_adapters/py_dataset_adapter.py:122: UserWarning: Your `PyDataset` class should call `super().__init__(**kwargs)` in its constructor. `**kwargs` can include `workers`, `use_multiprocessing`, `max_queue_size`. Do not pass these arguments to `fit()`, as they will be ignored.\n",
      "  self._warn_if_super_not_called()\n"
     ]
    },
    {
     "name": "stdout",
     "output_type": "stream",
     "text": [
      "\u001b[1m10/10\u001b[0m \u001b[32m━━━━━━━━━━━━━━━━━━━━\u001b[0m\u001b[37m\u001b[0m \u001b[1m18s\u001b[0m 2s/step\n"
     ]
    }
   ],
   "source": [
    "from sklearn.metrics import confusion_matrix, classification_report\n",
    "import numpy as np\n",
    "import matplotlib.pyplot as plt\n",
    "import seaborn as sns\n",
    "\n",
    "validation_steps = validation_generator.samples // BATCH_SIZE\n",
    "validation_predictions = model.predict(validation_generator, steps=validation_steps)\n",
    "\n",
    "# Get true labels\n",
    "true_labels = validation_generator.classes\n",
    "true_labels = validation_generator.classes[:validation_steps * BATCH_SIZE]\n",
    "\n",
    "# Convert true labels to one-hot encoding\n",
    "true_labels_one_hot = tf.keras.utils.to_categorical(true_labels, num_classes=num_classes)\n",
    "\n",
    "# Create a confusion matrix\n",
    "conf_matrix = confusion_matrix(np.argmax(true_labels_one_hot, axis=1), \n",
    "                               np.argmax(validation_predictions, axis=1),\n",
    "                                labels = np.arange(num_classes))"
   ]
  },
  {
   "cell_type": "code",
   "execution_count": 11,
   "id": "4abcec4d-bbb9-41a1-951b-765ac79f3f24",
   "metadata": {},
   "outputs": [
    {
     "data": {
      "text/plain": [
       "array([[0, 1, 0, ..., 0, 0, 0],\n",
       "       [0, 0, 0, ..., 0, 0, 0],\n",
       "       [0, 0, 0, ..., 0, 0, 0],\n",
       "       ...,\n",
       "       [0, 0, 0, ..., 0, 0, 0],\n",
       "       [0, 0, 0, ..., 0, 0, 0],\n",
       "       [0, 0, 0, ..., 0, 0, 0]])"
      ]
     },
     "execution_count": 11,
     "metadata": {},
     "output_type": "execute_result"
    }
   ],
   "source": [
    "conf_matrix"
   ]
  },
  {
   "cell_type": "code",
   "execution_count": 12,
   "id": "985b55e6-807a-44d6-9ec9-2bd2772ab88e",
   "metadata": {},
   "outputs": [
    {
     "data": {
      "image/png": "[encoded data removed]",
      "text/plain": [
       "<Figure size 800x600 with 2 Axes>"
      ]
     },
     "metadata": {},
     "output_type": "display_data"
    }
   ],
   "source": [
    "plt.figure(figsize=(8, 6))\n",
    "sns.heatmap(conf_matrix, annot=True, fmt='d', cmap='Blues', \n",
    "            xticklabels=np.arange(num_classes), yticklabels=np.arange(num_classes))\n",
    "plt.title('Confusion Matrix')\n",
    "plt.xlabel('Predicted Label')\n",
    "plt.ylabel('True Label')\n",
    "plt.show()"
   ]
  },
  {
   "cell_type": "code",
   "execution_count": 13,
   "id": "3ba42e68-cce1-4911-8a91-39ca942daab8",
   "metadata": {},
   "outputs": [
    {
     "name": "stdout",
     "output_type": "stream",
     "text": [
      "Accuracy: 0.0375\n",
      "Precision: 0.004972164946086446\n",
      "Recall: 0.0375\n",
      "F1-Score: 0.008419056248445439\n",
      "MCC: 0.008539541781137893\n"
     ]
    },
    {
     "name": "stderr",
     "output_type": "stream",
     "text": [
      "/usr/local/Cellar/jupyterlab/4.0.12/libexec/lib/python3.12/site-packages/sklearn/metrics/_classification.py:1509: UndefinedMetricWarning: Precision is ill-defined and being set to 0.0 in labels with no predicted samples. Use `zero_division` parameter to control this behavior.\n",
      "  _warn_prf(average, modifier, f\"{metric.capitalize()} is\", len(result))\n"
     ]
    }
   ],
   "source": [
    "from sklearn.metrics import accuracy_score, precision_score, recall_score, f1_score, roc_auc_score, matthews_corrcoef\n",
    "\n",
    "# Assuming y_true and y_pred are your true labels and predicted labels\n",
    "y_true = np.argmax(true_labels_one_hot, axis=1)\n",
    "y_pred = np.argmax(validation_predictions, axis=1)\n",
    "\n",
    "accuracy = accuracy_score(y_true, y_pred)\n",
    "precision = precision_score(y_true, y_pred, average='weighted')  # Use 'weighted' for multiclass\n",
    "recall = recall_score(y_true, y_pred, average='weighted')\n",
    "f1 = f1_score(y_true, y_pred, average='weighted')\n",
    "mcc = matthews_corrcoef(y_true, y_pred)\n",
    "\n",
    "print(\"Accuracy:\", accuracy)\n",
    "print(\"Precision:\", precision)\n",
    "print(\"Recall:\", recall)\n",
    "print(\"F1-Score:\", f1)\n",
    "print(\"MCC:\", mcc)"
   ]
  },
  {
   "cell_type": "code",
   "execution_count": 14,
   "id": "376330dd-f77c-4998-b7b8-003f07ec9019",
   "metadata": {},
   "outputs": [
    {
     "name": "stdout",
     "output_type": "stream",
     "text": [
      "Epoch 1/10\n"
     ]
    },
    {
     "name": "stderr",
     "output_type": "stream",
     "text": [
      "/usr/local/Cellar/jupyterlab/4.0.12/libexec/lib/python3.12/site-packages/keras/src/trainers/data_adapters/py_dataset_adapter.py:122: UserWarning: Your `PyDataset` class should call `super().__init__(**kwargs)` in its constructor. `**kwargs` can include `workers`, `use_multiprocessing`, `max_queue_size`. Do not pass these arguments to `fit()`, as they will be ignored.\n",
      "  self._warn_if_super_not_called()\n"
     ]
    },
    {
     "name": "stdout",
     "output_type": "stream",
     "text": [
      "\u001b[1m 9/98\u001b[0m \u001b[32m━\u001b[0m\u001b[37m━━━━━━━━━━━━━━━━━━━\u001b[0m \u001b[1m1:54\u001b[0m 1s/step - accuracy: 0.0691 - loss: 3.6527"
     ]
    },
    {
     "name": "stderr",
     "output_type": "stream",
     "text": [
      "/usr/local/Cellar/jupyterlab/4.0.12/libexec/lib/python3.12/site-packages/PIL/Image.py:981: UserWarning: Palette images with Transparency expressed in bytes should be converted to RGBA images\n",
      "  warnings.warn(\n"
     ]
    },
    {
     "name": "stdout",
     "output_type": "stream",
     "text": [
      "\u001b[1m98/98\u001b[0m \u001b[32m━━━━━━━━━━━━━━━━━━━━\u001b[0m\u001b[37m\u001b[0m \u001b[1m175s\u001b[0m 2s/step - accuracy: 0.3106 - loss: 2.6608 - val_accuracy: 0.8091 - val_loss: 0.6186\n",
      "Epoch 2/10\n"
     ]
    },
    {
     "name": "stderr",
     "output_type": "stream",
     "text": [
      "2024-03-29 13:02:32.306814: I tensorflow/core/kernels/data/shuffle_dataset_op.cc:450] ShuffleDatasetV3:7: Filling up shuffle buffer (this may take a while): 7 of 8\n"
     ]
    },
    {
     "name": "stdout",
     "output_type": "stream",
     "text": [
      "\u001b[1m 1/98\u001b[0m \u001b[37m━━━━━━━━━━━━━━━━━━━━\u001b[0m \u001b[1m19:46\u001b[0m 12s/step - accuracy: 0.7500 - loss: 0.7541"
     ]
    },
    {
     "name": "stderr",
     "output_type": "stream",
     "text": [
      "2024-03-29 13:02:33.606731: I tensorflow/core/kernels/data/shuffle_dataset_op.cc:480] Shuffle buffer filled.\n"
     ]
    },
    {
     "name": "stdout",
     "output_type": "stream",
     "text": [
      "\u001b[1m98/98\u001b[0m \u001b[32m━━━━━━━━━━━━━━━━━━━━\u001b[0m\u001b[37m\u001b[0m \u001b[1m160s\u001b[0m 2s/step - accuracy: 0.7241 - loss: 0.8789 - val_accuracy: 0.8547 - val_loss: 0.4367\n",
      "Epoch 3/10\n",
      "\u001b[1m98/98\u001b[0m \u001b[32m━━━━━━━━━━━━━━━━━━━━\u001b[0m\u001b[37m\u001b[0m \u001b[1m162s\u001b[0m 2s/step - accuracy: 0.8077 - loss: 0.5778 - val_accuracy: 0.8803 - val_loss: 0.3546\n",
      "Epoch 4/10\n",
      "\u001b[1m98/98\u001b[0m \u001b[32m━━━━━━━━━━━━━━━━━━━━\u001b[0m\u001b[37m\u001b[0m \u001b[1m167s\u001b[0m 2s/step - accuracy: 0.8454 - loss: 0.4673 - val_accuracy: 0.8775 - val_loss: 0.3042\n",
      "Epoch 5/10\n",
      "\u001b[1m98/98\u001b[0m \u001b[32m━━━━━━━━━━━━━━━━━━━━\u001b[0m\u001b[37m\u001b[0m \u001b[1m174s\u001b[0m 2s/step - accuracy: 0.8806 - loss: 0.3714 - val_accuracy: 0.8974 - val_loss: 0.3062\n",
      "Epoch 6/10\n"
     ]
    },
    {
     "name": "stderr",
     "output_type": "stream",
     "text": [
      "2024-03-29 13:13:34.712725: I tensorflow/core/kernels/data/shuffle_dataset_op.cc:450] ShuffleDatasetV3:7: Filling up shuffle buffer (this may take a while): 7 of 8\n",
      "2024-03-29 13:13:36.424054: I tensorflow/core/kernels/data/shuffle_dataset_op.cc:480] Shuffle buffer filled.\n"
     ]
    },
    {
     "name": "stdout",
     "output_type": "stream",
     "text": [
      "\u001b[1m98/98\u001b[0m \u001b[32m━━━━━━━━━━━━━━━━━━━━\u001b[0m\u001b[37m\u001b[0m \u001b[1m173s\u001b[0m 2s/step - accuracy: 0.8902 - loss: 0.3262 - val_accuracy: 0.9202 - val_loss: 0.2803\n",
      "Epoch 7/10\n"
     ]
    },
    {
     "name": "stderr",
     "output_type": "stream",
     "text": [
      "2024-03-29 13:16:27.678854: I tensorflow/core/kernels/data/shuffle_dataset_op.cc:450] ShuffleDatasetV3:7: Filling up shuffle buffer (this may take a while): 7 of 8\n",
      "2024-03-29 13:16:28.641618: I tensorflow/core/kernels/data/shuffle_dataset_op.cc:480] Shuffle buffer filled.\n"
     ]
    },
    {
     "name": "stdout",
     "output_type": "stream",
     "text": [
      "\u001b[1m98/98\u001b[0m \u001b[32m━━━━━━━━━━━━━━━━━━━━\u001b[0m\u001b[37m\u001b[0m \u001b[1m174s\u001b[0m 2s/step - accuracy: 0.9183 - loss: 0.2458 - val_accuracy: 0.9345 - val_loss: 0.2168\n",
      "Epoch 8/10\n",
      "\u001b[1m98/98\u001b[0m \u001b[32m━━━━━━━━━━━━━━━━━━━━\u001b[0m\u001b[37m\u001b[0m \u001b[1m169s\u001b[0m 2s/step - accuracy: 0.9280 - loss: 0.2338 - val_accuracy: 0.9316 - val_loss: 0.2264\n",
      "Epoch 9/10\n",
      "\u001b[1m98/98\u001b[0m \u001b[32m━━━━━━━━━━━━━━━━━━━━\u001b[0m\u001b[37m\u001b[0m \u001b[1m173s\u001b[0m 2s/step - accuracy: 0.9427 - loss: 0.1906 - val_accuracy: 0.9459 - val_loss: 0.1895\n",
      "Epoch 10/10\n",
      "\u001b[1m98/98\u001b[0m \u001b[32m━━━━━━━━━━━━━━━━━━━━\u001b[0m\u001b[37m\u001b[0m \u001b[1m178s\u001b[0m 2s/step - accuracy: 0.9424 - loss: 0.1780 - val_accuracy: 0.9459 - val_loss: 0.2188\n"
     ]
    }
   ],
   "source": [
    "pretrained_model = tf.keras.applications.MobileNetV2(\n",
    "    input_shape=(128, 128, 3),\n",
    "    include_top=False,\n",
    "    weights='imagenet',\n",
    "    pooling='avg'\n",
    ")\n",
    "\n",
    "pretrained_model.trainable = False\n",
    "inputs = pretrained_model.input\n",
    "\n",
    "x = tf.keras.layers.Dense(128, activation='relu')(pretrained_model.output)\n",
    "x = tf.keras.layers.Dense(128, activation='relu')(x)\n",
    "\n",
    "outputs = tf.keras.layers.Dense(36, activation='softmax')(x)\n",
    "\n",
    "model = tf.keras.Model(inputs=inputs, outputs=outputs)\n",
    "\n",
    "model.compile(\n",
    "    optimizer='adam',\n",
    "    loss='categorical_crossentropy',\n",
    "    metrics=['accuracy']\n",
    ")\n",
    "\n",
    "model_history_2 = model.fit(\n",
    "                         train_generator,\n",
    "                             epochs =10 ,\n",
    "                             validation_data = validation_generator,\n",
    "                               batch_size = 32,\n",
    "     \n",
    "    callbacks=[\n",
    "        tf.keras.callbacks.EarlyStopping(\n",
    "            monitor='val_loss',\n",
    "            patience=2,\n",
    "            restore_best_weights=True\n",
    "        )\n",
    "    ]\n",
    ")"
   ]
  },
  {
   "cell_type": "code",
   "execution_count": null,
   "id": "0bfd581c-f41a-401c-a693-980129b6aa7d",
   "metadata": {},
   "outputs": [],
   "source": []
  }
 ],
 "metadata": {
  "kernelspec": {
   "display_name": "Python 3 (ipykernel)",
   "language": "python",
   "name": "python3"
  },
  "language_info": {
   "codemirror_mode": {
    "name": "ipython",
    "version": 3
   },
   "file_extension": ".py",
   "mimetype": "text/x-python",
   "name": "python",
   "nbconvert_exporter": "python",
   "pygments_lexer": "ipython3",
   "version": "3.12.1"
  }
 },
 "nbformat": 4,
 "nbformat_minor": 5
}
