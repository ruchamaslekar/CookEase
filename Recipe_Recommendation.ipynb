{
 "cells": [
  {
   "cell_type": "code",
   "execution_count": null,
   "id": "6c3ded3a-bd69-4b67-8207-e89c0ef25708",
   "metadata": {},
   "outputs": [],
   "source": [
    "import pandas as pd\n",
    "\n",
    "recipes_df = pd.read_csv('fruit_veggie_recipes.csv')\n",
    "recipes_df = recipes_df[['name', 'ingredients','id']]"
   ]
  },
  {
   "cell_type": "code",
   "execution_count": null,
   "id": "79c3d24a-a66e-4950-8c39-a6f689ea00f5",
   "metadata": {},
   "outputs": [],
   "source": [
    "recipes_df"
   ]
  },
  {
   "cell_type": "markdown",
   "id": "a25b0401-9c61-4e03-93d4-a2c130f479ba",
   "metadata": {},
   "source": [
    "# 1. Content-based recommendation system\n",
    "- The get_recommendations function takes a list of user preferences (ingredients) as input.\n",
    "- It finds recipes that contain all of the user's preferred ingredients.\n",
    "- It calculates the similarity between the user preferences and recipes.\n",
    "- It recommends the top 10 recipes that are most similar to the user's preferences and contain all of the preferred ingredients.\n",
    "- If the user is new and hasn't provided any preferences,the function recommends popular recipes by randomly selecting 10 recipes from the dataset."
   ]
  },
  {
   "cell_type": "markdown",
   "id": "7402479e-bdb1-473d-8e2d-1b659afb2979",
   "metadata": {},
   "source": [
    "- Input : raw ingrediants\n",
    "- Output : A list of recommended recipes for the user based on ingrediants"
   ]
  },
  {
   "cell_type": "code",
   "execution_count": null,
   "id": "a2bc536b-a8e4-429a-9a44-cfcd4bca4fbe",
   "metadata": {},
   "outputs": [],
   "source": [
    "from sklearn.feature_extraction.text import TfidfVectorizer\n",
    "from sklearn.metrics.pairwise import cosine_similarity\n",
    "\n",
    "# TF-IDF vectorization\n",
    "tfidf = TfidfVectorizer(stop_words='english')\n",
    "tfidf_matrix = tfidf.fit_transform(recipes_df['ingredients'])\n",
    "\n",
    "# Calculate cosine similarity\n",
    "cosine_sim = cosine_similarity(tfidf_matrix, tfidf_matrix)\n",
    "\n",
    "# Function to get recipe recommendations\n",
    "def get_recommendations(user_preferences=[], cosine_sim=cosine_sim, recipes_df=recipes_df):\n",
    "    \n",
    "    if len(user_preferences) == 0:\n",
    "        # If the user is new and hasn't provided any preferences, recommend popular recipes\n",
    "        popular_recipes = recipes_df.sample(n=10)['name'].values\n",
    "        return '\\n'.join(popular_recipes)\n",
    "        \n",
    "    # Get the indices of recipes containing all of the user's preferred ingredients\n",
    "    preferred_indices = set()\n",
    "    for ingredient in user_preferences:\n",
    "        preferred_indices.update(recipes_df[recipes_df['ingredients'].str.contains(ingredient)].index)\n",
    "    \n",
    "    # Calculate the similarity between user preferences and recipes\n",
    "    combined_scores = cosine_sim[list(preferred_indices)]\n",
    "    combined_scores = list(enumerate(combined_scores.sum(axis=0)))\n",
    "    combined_scores = sorted(combined_scores, key=lambda x: x[1], reverse=True)\n",
    "    combined_scores = combined_scores[1:11]\n",
    "    recipe_indices = [i[0] for i in combined_scores]\n",
    "    \n",
    "    # Filter out recommended recipes that do not contain all of the user's preferred ingredients\n",
    "    recommended_recipes = recipes_df.iloc[recipe_indices]\n",
    "    recommended_recipes = recommended_recipes[recommended_recipes['ingredients'].apply(\n",
    "        lambda x: all(ingredient in x for ingredient in user_preferences))]\n",
    "    \n",
    "    return '\\n'.join(recommended_recipes['name'].values)"
   ]
  },
  {
   "cell_type": "markdown",
   "id": "dc84b2a3-b8e5-4abc-8c8d-70673b93c87c",
   "metadata": {},
   "source": [
    "### Testing on sample data"
   ]
  },
  {
   "cell_type": "code",
   "execution_count": null,
   "id": "682f7b5b-bac7-47bb-ac9a-7ba22f40d7c7",
   "metadata": {},
   "outputs": [],
   "source": [
    "user_preferences = ['onion', 'potato']\n",
    "recommendations = get_recommendations(user_preferences)\n",
    "print(recommendations)"
   ]
  },
  {
   "cell_type": "markdown",
   "id": "31076e7a-17d0-4686-9322-be316dd62d80",
   "metadata": {},
   "source": [
    "# 2.1 Classification-based recommendation system\n",
    "- We train a Support Vector Machine (SVM) classifier to predict whether a user will like a recipe or not based on the recipe ID"
   ]
  },
  {
   "cell_type": "code",
   "execution_count": 8,
   "id": "e004c8df-bae4-49ca-ab4c-3ee28ad7f58a",
   "metadata": {},
   "outputs": [
    {
     "name": "stdout",
     "output_type": "stream",
     "text": [
      "Accuracy: 0.88\n"
     ]
    }
   ],
   "source": [
    "import pandas as pd\n",
    "from sklearn.model_selection import train_test_split\n",
    "from sklearn.feature_extraction.text import TfidfVectorizer\n",
    "from sklearn.svm import SVC\n",
    "from sklearn.metrics import accuracy_score\n",
    "\n",
    "# Load the dataset\n",
    "interactions_df = pd.read_csv(\"RAW_interactions.csv\")\n",
    "\n",
    "# Reduce the dataset to 1000 rows\n",
    "interactions_df = interactions_df.sample(n=1000, random_state=42)\n",
    "\n",
    "# Reset the index\n",
    "interactions_df = interactions_df.reset_index(drop=True)\n",
    "\n",
    "# Define X and y\n",
    "X = interactions_df[['user_id', 'recipe_id']]\n",
    "y = interactions_df['rating'] > 3  # We'll treat ratings > 3 as 'liked' and ratings <= 3 as 'not liked'\n",
    "\n",
    "# Split the dataset into train and test sets\n",
    "X_train, X_test, y_train, y_test = train_test_split(X, y, test_size=0.2, random_state=42)\n",
    "\n",
    "# Initialize TF-IDF Vectorizer\n",
    "tfidf = TfidfVectorizer()\n",
    "\n",
    "# Fit and transform the training data\n",
    "X_train_tfidf = tfidf.fit_transform(X_train['recipe_id'].astype(str))\n",
    "\n",
    "# Initialize SVM classifier\n",
    "clf = SVC(kernel='linear')\n",
    "\n",
    "# Train the classifier\n",
    "clf.fit(X_train_tfidf, y_train)\n",
    "\n",
    "# Test the classifier\n",
    "X_test_tfidf = tfidf.transform(X_test['recipe_id'].astype(str))\n",
    "y_pred = clf.predict(X_test_tfidf)\n",
    "print(\"Accuracy:\", accuracy_score(y_test, y_pred))"
   ]
  },
  {
   "cell_type": "markdown",
   "id": "113daebd-facb-48dd-8313-baa0237ffcff",
   "metadata": {},
   "source": [
    "# 2.2 Classification-based recommendation system"
   ]
  },
  {
   "cell_type": "code",
   "execution_count": 19,
   "id": "26cfd492-ee9c-4937-9419-d545b5ea25ed",
   "metadata": {},
   "outputs": [
    {
     "name": "stdout",
     "output_type": "stream",
     "text": [
      "Accuracy: 0.885\n"
     ]
    }
   ],
   "source": [
    "from scipy.sparse import hstack\n",
    "from sklearn.preprocessing import OneHotEncoder\n",
    "\n",
    "# Initialize OneHotEncoders for user and recipe IDs\n",
    "user_encoder = OneHotEncoder()\n",
    "recipe_encoder = OneHotEncoder()\n",
    "\n",
    "# Fit OneHotEncoders on both training and testing data\n",
    "user_encoder.fit(X[['user_id']])\n",
    "recipe_encoder.fit(X[['recipe_id']])\n",
    "\n",
    "# Transform user and recipe IDs\n",
    "X_train_user = user_encoder.transform(X_train[['user_id']])\n",
    "X_train_recipe = recipe_encoder.transform(X_train[['recipe_id']])\n",
    "\n",
    "X_test_user = user_encoder.transform(X_test[['user_id']])\n",
    "X_test_recipe = recipe_encoder.transform(X_test[['recipe_id']])\n",
    "\n",
    "# Concatenate TF-IDF vectors with one-hot encoded user and recipe IDs\n",
    "X_train_combined = hstack([X_train_tfidf, X_train_user, X_train_recipe])\n",
    "X_test_combined = hstack([X_test_tfidf, X_test_user, X_test_recipe])\n",
    "\n",
    "# Initialize XGBoost classifier\n",
    "xgb_clf = XGBClassifier()\n",
    "\n",
    "# Train the classifier\n",
    "xgb_clf.fit(X_train_combined, y_train)\n",
    "\n",
    "# Test the classifier\n",
    "y_pred_xgb_combined = xgb_clf.predict(X_test_combined)\n",
    "\n",
    "# Calculate accuracy\n",
    "accuracy = accuracy_score(y_test, y_pred_xgb_combined)\n",
    "\n",
    "# Evaluate the model\n",
    "print(\"Accuracy:\", accuracy)"
   ]
  },
  {
   "cell_type": "markdown",
   "id": "65958c36-d871-4c66-959d-af06c51b45ea",
   "metadata": {},
   "source": [
    "# Displaying recipe image"
   ]
  },
  {
   "cell_type": "code",
   "execution_count": null,
   "id": "44930ffc-cb29-4502-bf19-f67fdf4e8758",
   "metadata": {},
   "outputs": [],
   "source": [
    "import os\n",
    "import matplotlib.pyplot as plt\n",
    "\n",
    "# Function to display images of recipes\n",
    "def display_recipe_images(recipe_names):\n",
    "    \n",
    "    for recipe_name in recipe_names:\n",
    "        image_path = f\"tomato basil pasta.jpeg\"  # Adjust this path according to your directory structure\n",
    "        if os.path.exists(image_path):\n",
    "            img = plt.imread(image_path)\n",
    "            plt.imshow(img)\n",
    "            plt.title(recipe_name)\n",
    "            plt.axis('off')\n",
    "            plt.show()\n",
    "        else:\n",
    "            print(f\"Image not found for {recipe_name}\")\n",
    "\n",
    "\n",
    "# Example usage\n",
    "recipe_names = [\"tomato basil pasta\"]\n",
    "display_recipe_images(recipe_names)"
   ]
  },
  {
   "cell_type": "code",
   "execution_count": null,
   "id": "3a44ddd3-14eb-4b0d-ae71-57c6992e926f",
   "metadata": {},
   "outputs": [],
   "source": [
    "# Count the frequency of recipes saved by each user\n",
    "user_ratings_df = pd.read_csv('RAW_interactions.csv')\n",
    "user_recipe_count = user_ratings_df['user_id'].value_counts()\n",
    "\n",
    "# Get the top N users\n",
    "top_users = user_recipe_count.head(10)\n",
    "\n",
    "# Plot the bar chart\n",
    "plt.figure(figsize=(10, 6))\n",
    "top_users.plot(kind='bar')\n",
    "plt.xlabel('User ID')\n",
    "plt.ylabel('Number of Recipes Saved')\n",
    "plt.title('Top 10 Users with the Most Saved Recipes')\n",
    "plt.show()"
   ]
  }
 ],
 "metadata": {
  "kernelspec": {
   "display_name": "Python 3 (ipykernel)",
   "language": "python",
   "name": "python3"
  },
  "language_info": {
   "codemirror_mode": {
    "name": "ipython",
    "version": 3
   },
   "file_extension": ".py",
   "mimetype": "text/x-python",
   "name": "python",
   "nbconvert_exporter": "python",
   "pygments_lexer": "ipython3",
   "version": "3.11.6"
  }
 },
 "nbformat": 4,
 "nbformat_minor": 5
}
